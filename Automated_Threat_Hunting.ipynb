{
 "cells": [
  {
   "cell_type": "code",
   "execution_count": 3,
   "metadata": {
    "colab": {
     "base_uri": "https://localhost:8080/"
    },
    "id": "yVchjIOxkmiP",
    "outputId": "8dfffc50-050a-4d39-d093-76eeca842af4"
   },
   "outputs": [
    {
     "name": "stdout",
     "output_type": "stream",
     "text": [
      "Requirement already satisfied: gym in c:\\users\\micko\\appdata\\local\\packages\\pythonsoftwarefoundation.python.3.9_qbz5n2kfra8p0\\localcache\\local-packages\\python39\\site-packages (0.26.2)\n",
      "Requirement already satisfied: numpy>=1.18.0 in c:\\users\\micko\\appdata\\local\\packages\\pythonsoftwarefoundation.python.3.9_qbz5n2kfra8p0\\localcache\\local-packages\\python39\\site-packages (from gym) (1.23.5)\n",
      "Requirement already satisfied: cloudpickle>=1.2.0 in c:\\users\\micko\\appdata\\local\\packages\\pythonsoftwarefoundation.python.3.9_qbz5n2kfra8p0\\localcache\\local-packages\\python39\\site-packages (from gym) (3.1.0)\n",
      "Requirement already satisfied: importlib_metadata>=4.8.0 in c:\\users\\micko\\appdata\\local\\packages\\pythonsoftwarefoundation.python.3.9_qbz5n2kfra8p0\\localcache\\local-packages\\python39\\site-packages (from gym) (5.1.0)\n",
      "Requirement already satisfied: gym_notices>=0.0.4 in c:\\users\\micko\\appdata\\local\\packages\\pythonsoftwarefoundation.python.3.9_qbz5n2kfra8p0\\localcache\\local-packages\\python39\\site-packages (from gym) (0.0.8)\n",
      "Requirement already satisfied: zipp>=0.5 in c:\\users\\micko\\appdata\\local\\packages\\pythonsoftwarefoundation.python.3.9_qbz5n2kfra8p0\\localcache\\local-packages\\python39\\site-packages (from importlib_metadata>=4.8.0->gym) (3.11.0)\n"
     ]
    },
    {
     "name": "stderr",
     "output_type": "stream",
     "text": [
      "\n",
      "[notice] A new release of pip is available: 23.2.1 -> 24.3.1\n",
      "[notice] To update, run: C:\\Users\\micko\\AppData\\Local\\Microsoft\\WindowsApps\\PythonSoftwareFoundation.Python.3.9_qbz5n2kfra8p0\\python.exe -m pip install --upgrade pip\n"
     ]
    }
   ],
   "source": [
    "!pip install gym"
   ]
  },
  {
   "cell_type": "code",
   "execution_count": 4,
   "metadata": {
    "colab": {
     "base_uri": "https://localhost:8080/"
    },
    "id": "dO_GYQ-9FjT7",
    "outputId": "90366eb5-408b-42b5-b8c2-e10f3ee5e681"
   },
   "outputs": [
    {
     "name": "stdout",
     "output_type": "stream",
     "text": [
      "Requirement already satisfied: stable-baselines3[extra] in c:\\users\\micko\\appdata\\local\\packages\\pythonsoftwarefoundation.python.3.9_qbz5n2kfra8p0\\localcache\\local-packages\\python39\\site-packages (2.4.0)\n",
      "Requirement already satisfied: gymnasium<1.1.0,>=0.29.1 in c:\\users\\micko\\appdata\\local\\packages\\pythonsoftwarefoundation.python.3.9_qbz5n2kfra8p0\\localcache\\local-packages\\python39\\site-packages (from stable-baselines3[extra]) (1.0.0)\n",
      "Requirement already satisfied: numpy<2.0,>=1.20 in c:\\users\\micko\\appdata\\local\\packages\\pythonsoftwarefoundation.python.3.9_qbz5n2kfra8p0\\localcache\\local-packages\\python39\\site-packages (from stable-baselines3[extra]) (1.23.5)\n",
      "Requirement already satisfied: torch>=1.13 in c:\\users\\micko\\appdata\\local\\packages\\pythonsoftwarefoundation.python.3.9_qbz5n2kfra8p0\\localcache\\local-packages\\python39\\site-packages (from stable-baselines3[extra]) (2.0.1)\n",
      "Requirement already satisfied: cloudpickle in c:\\users\\micko\\appdata\\local\\packages\\pythonsoftwarefoundation.python.3.9_qbz5n2kfra8p0\\localcache\\local-packages\\python39\\site-packages (from stable-baselines3[extra]) (3.1.0)\n",
      "Requirement already satisfied: pandas in c:\\users\\micko\\appdata\\local\\packages\\pythonsoftwarefoundation.python.3.9_qbz5n2kfra8p0\\localcache\\local-packages\\python39\\site-packages (from stable-baselines3[extra]) (1.5.2)\n",
      "Requirement already satisfied: matplotlib in c:\\users\\micko\\appdata\\local\\packages\\pythonsoftwarefoundation.python.3.9_qbz5n2kfra8p0\\localcache\\local-packages\\python39\\site-packages (from stable-baselines3[extra]) (3.6.2)\n",
      "Requirement already satisfied: opencv-python in c:\\users\\micko\\appdata\\local\\packages\\pythonsoftwarefoundation.python.3.9_qbz5n2kfra8p0\\localcache\\local-packages\\python39\\site-packages (from stable-baselines3[extra]) (4.10.0.84)\n",
      "Requirement already satisfied: pygame in c:\\users\\micko\\appdata\\local\\packages\\pythonsoftwarefoundation.python.3.9_qbz5n2kfra8p0\\localcache\\local-packages\\python39\\site-packages (from stable-baselines3[extra]) (2.6.1)\n",
      "Requirement already satisfied: tensorboard>=2.9.1 in c:\\users\\micko\\appdata\\local\\packages\\pythonsoftwarefoundation.python.3.9_qbz5n2kfra8p0\\localcache\\local-packages\\python39\\site-packages (from stable-baselines3[extra]) (2.10.1)\n",
      "Requirement already satisfied: psutil in c:\\users\\micko\\appdata\\local\\packages\\pythonsoftwarefoundation.python.3.9_qbz5n2kfra8p0\\localcache\\local-packages\\python39\\site-packages (from stable-baselines3[extra]) (5.9.4)\n",
      "Requirement already satisfied: tqdm in c:\\users\\micko\\appdata\\local\\packages\\pythonsoftwarefoundation.python.3.9_qbz5n2kfra8p0\\localcache\\local-packages\\python39\\site-packages (from stable-baselines3[extra]) (4.65.0)\n",
      "Requirement already satisfied: rich in c:\\users\\micko\\appdata\\local\\packages\\pythonsoftwarefoundation.python.3.9_qbz5n2kfra8p0\\localcache\\local-packages\\python39\\site-packages (from stable-baselines3[extra]) (13.9.4)\n",
      "Requirement already satisfied: ale-py>=0.9.0 in c:\\users\\micko\\appdata\\local\\packages\\pythonsoftwarefoundation.python.3.9_qbz5n2kfra8p0\\localcache\\local-packages\\python39\\site-packages (from stable-baselines3[extra]) (0.10.1)\n",
      "Requirement already satisfied: pillow in c:\\users\\micko\\appdata\\local\\packages\\pythonsoftwarefoundation.python.3.9_qbz5n2kfra8p0\\localcache\\local-packages\\python39\\site-packages (from stable-baselines3[extra]) (9.4.0)\n",
      "Requirement already satisfied: importlib-metadata>=4.10.0 in c:\\users\\micko\\appdata\\local\\packages\\pythonsoftwarefoundation.python.3.9_qbz5n2kfra8p0\\localcache\\local-packages\\python39\\site-packages (from ale-py>=0.9.0->stable-baselines3[extra]) (5.1.0)\n",
      "Requirement already satisfied: typing-extensions in c:\\users\\micko\\appdata\\local\\packages\\pythonsoftwarefoundation.python.3.9_qbz5n2kfra8p0\\localcache\\local-packages\\python39\\site-packages (from ale-py>=0.9.0->stable-baselines3[extra]) (4.4.0)\n",
      "Requirement already satisfied: farama-notifications>=0.0.1 in c:\\users\\micko\\appdata\\local\\packages\\pythonsoftwarefoundation.python.3.9_qbz5n2kfra8p0\\localcache\\local-packages\\python39\\site-packages (from gymnasium<1.1.0,>=0.29.1->stable-baselines3[extra]) (0.0.4)\n",
      "Requirement already satisfied: absl-py>=0.4 in c:\\users\\micko\\appdata\\local\\packages\\pythonsoftwarefoundation.python.3.9_qbz5n2kfra8p0\\localcache\\local-packages\\python39\\site-packages (from tensorboard>=2.9.1->stable-baselines3[extra]) (1.3.0)\n",
      "Requirement already satisfied: grpcio>=1.24.3 in c:\\users\\micko\\appdata\\local\\packages\\pythonsoftwarefoundation.python.3.9_qbz5n2kfra8p0\\localcache\\local-packages\\python39\\site-packages (from tensorboard>=2.9.1->stable-baselines3[extra]) (1.51.1)\n",
      "Requirement already satisfied: google-auth<3,>=1.6.3 in c:\\users\\micko\\appdata\\local\\packages\\pythonsoftwarefoundation.python.3.9_qbz5n2kfra8p0\\localcache\\local-packages\\python39\\site-packages (from tensorboard>=2.9.1->stable-baselines3[extra]) (2.14.1)\n",
      "Requirement already satisfied: google-auth-oauthlib<0.5,>=0.4.1 in c:\\users\\micko\\appdata\\local\\packages\\pythonsoftwarefoundation.python.3.9_qbz5n2kfra8p0\\localcache\\local-packages\\python39\\site-packages (from tensorboard>=2.9.1->stable-baselines3[extra]) (0.4.6)\n",
      "Requirement already satisfied: markdown>=2.6.8 in c:\\users\\micko\\appdata\\local\\packages\\pythonsoftwarefoundation.python.3.9_qbz5n2kfra8p0\\localcache\\local-packages\\python39\\site-packages (from tensorboard>=2.9.1->stable-baselines3[extra]) (3.4.1)\n",
      "Requirement already satisfied: protobuf<3.20,>=3.9.2 in c:\\users\\micko\\appdata\\local\\packages\\pythonsoftwarefoundation.python.3.9_qbz5n2kfra8p0\\localcache\\local-packages\\python39\\site-packages (from tensorboard>=2.9.1->stable-baselines3[extra]) (3.19.6)\n",
      "Requirement already satisfied: requests<3,>=2.21.0 in c:\\users\\micko\\appdata\\local\\packages\\pythonsoftwarefoundation.python.3.9_qbz5n2kfra8p0\\localcache\\local-packages\\python39\\site-packages (from tensorboard>=2.9.1->stable-baselines3[extra]) (2.28.1)\n",
      "Requirement already satisfied: setuptools>=41.0.0 in c:\\program files\\windowsapps\\pythonsoftwarefoundation.python.3.9_3.9.3568.0_x64__qbz5n2kfra8p0\\lib\\site-packages (from tensorboard>=2.9.1->stable-baselines3[extra]) (58.1.0)\n",
      "Requirement already satisfied: tensorboard-data-server<0.7.0,>=0.6.0 in c:\\users\\micko\\appdata\\local\\packages\\pythonsoftwarefoundation.python.3.9_qbz5n2kfra8p0\\localcache\\local-packages\\python39\\site-packages (from tensorboard>=2.9.1->stable-baselines3[extra]) (0.6.1)\n",
      "Requirement already satisfied: tensorboard-plugin-wit>=1.6.0 in c:\\users\\micko\\appdata\\local\\packages\\pythonsoftwarefoundation.python.3.9_qbz5n2kfra8p0\\localcache\\local-packages\\python39\\site-packages (from tensorboard>=2.9.1->stable-baselines3[extra]) (1.8.1)\n",
      "Requirement already satisfied: werkzeug>=1.0.1 in c:\\users\\micko\\appdata\\local\\packages\\pythonsoftwarefoundation.python.3.9_qbz5n2kfra8p0\\localcache\\local-packages\\python39\\site-packages (from tensorboard>=2.9.1->stable-baselines3[extra]) (2.2.2)\n",
      "Requirement already satisfied: wheel>=0.26 in c:\\users\\micko\\appdata\\local\\packages\\pythonsoftwarefoundation.python.3.9_qbz5n2kfra8p0\\localcache\\local-packages\\python39\\site-packages (from tensorboard>=2.9.1->stable-baselines3[extra]) (0.38.4)\n",
      "Requirement already satisfied: filelock in c:\\users\\micko\\appdata\\local\\packages\\pythonsoftwarefoundation.python.3.9_qbz5n2kfra8p0\\localcache\\local-packages\\python39\\site-packages (from torch>=1.13->stable-baselines3[extra]) (3.12.2)\n",
      "Requirement already satisfied: sympy in c:\\users\\micko\\appdata\\local\\packages\\pythonsoftwarefoundation.python.3.9_qbz5n2kfra8p0\\localcache\\local-packages\\python39\\site-packages (from torch>=1.13->stable-baselines3[extra]) (1.12)\n",
      "Requirement already satisfied: networkx in c:\\users\\micko\\appdata\\local\\packages\\pythonsoftwarefoundation.python.3.9_qbz5n2kfra8p0\\localcache\\local-packages\\python39\\site-packages (from torch>=1.13->stable-baselines3[extra]) (3.1)\n",
      "Requirement already satisfied: jinja2 in c:\\users\\micko\\appdata\\local\\packages\\pythonsoftwarefoundation.python.3.9_qbz5n2kfra8p0\\localcache\\local-packages\\python39\\site-packages (from torch>=1.13->stable-baselines3[extra]) (3.1.2)\n",
      "Requirement already satisfied: contourpy>=1.0.1 in c:\\users\\micko\\appdata\\local\\packages\\pythonsoftwarefoundation.python.3.9_qbz5n2kfra8p0\\localcache\\local-packages\\python39\\site-packages (from matplotlib->stable-baselines3[extra]) (1.0.6)\n",
      "Requirement already satisfied: cycler>=0.10 in c:\\users\\micko\\appdata\\local\\packages\\pythonsoftwarefoundation.python.3.9_qbz5n2kfra8p0\\localcache\\local-packages\\python39\\site-packages (from matplotlib->stable-baselines3[extra]) (0.11.0)\n",
      "Requirement already satisfied: fonttools>=4.22.0 in c:\\users\\micko\\appdata\\local\\packages\\pythonsoftwarefoundation.python.3.9_qbz5n2kfra8p0\\localcache\\local-packages\\python39\\site-packages (from matplotlib->stable-baselines3[extra]) (4.38.0)\n",
      "Requirement already satisfied: kiwisolver>=1.0.1 in c:\\users\\micko\\appdata\\local\\packages\\pythonsoftwarefoundation.python.3.9_qbz5n2kfra8p0\\localcache\\local-packages\\python39\\site-packages (from matplotlib->stable-baselines3[extra]) (1.4.4)\n",
      "Requirement already satisfied: packaging>=20.0 in c:\\users\\micko\\appdata\\local\\packages\\pythonsoftwarefoundation.python.3.9_qbz5n2kfra8p0\\localcache\\local-packages\\python39\\site-packages (from matplotlib->stable-baselines3[extra]) (21.3)\n",
      "Requirement already satisfied: pyparsing>=2.2.1 in c:\\users\\micko\\appdata\\local\\packages\\pythonsoftwarefoundation.python.3.9_qbz5n2kfra8p0\\localcache\\local-packages\\python39\\site-packages (from matplotlib->stable-baselines3[extra]) (3.0.9)\n",
      "Requirement already satisfied: python-dateutil>=2.7 in c:\\users\\micko\\appdata\\local\\packages\\pythonsoftwarefoundation.python.3.9_qbz5n2kfra8p0\\localcache\\local-packages\\python39\\site-packages (from matplotlib->stable-baselines3[extra]) (2.8.2)\n",
      "Requirement already satisfied: pytz>=2020.1 in c:\\users\\micko\\appdata\\local\\packages\\pythonsoftwarefoundation.python.3.9_qbz5n2kfra8p0\\localcache\\local-packages\\python39\\site-packages (from pandas->stable-baselines3[extra]) (2022.7)\n",
      "Requirement already satisfied: markdown-it-py>=2.2.0 in c:\\users\\micko\\appdata\\local\\packages\\pythonsoftwarefoundation.python.3.9_qbz5n2kfra8p0\\localcache\\local-packages\\python39\\site-packages (from rich->stable-baselines3[extra]) (3.0.0)\n",
      "Requirement already satisfied: pygments<3.0.0,>=2.13.0 in c:\\users\\micko\\appdata\\local\\packages\\pythonsoftwarefoundation.python.3.9_qbz5n2kfra8p0\\localcache\\local-packages\\python39\\site-packages (from rich->stable-baselines3[extra]) (2.13.0)\n",
      "Requirement already satisfied: colorama in c:\\users\\micko\\appdata\\local\\packages\\pythonsoftwarefoundation.python.3.9_qbz5n2kfra8p0\\localcache\\local-packages\\python39\\site-packages (from tqdm->stable-baselines3[extra]) (0.4.6)\n",
      "Requirement already satisfied: cachetools<6.0,>=2.0.0 in c:\\users\\micko\\appdata\\local\\packages\\pythonsoftwarefoundation.python.3.9_qbz5n2kfra8p0\\localcache\\local-packages\\python39\\site-packages (from google-auth<3,>=1.6.3->tensorboard>=2.9.1->stable-baselines3[extra]) (5.2.0)\n",
      "Requirement already satisfied: pyasn1-modules>=0.2.1 in c:\\users\\micko\\appdata\\local\\packages\\pythonsoftwarefoundation.python.3.9_qbz5n2kfra8p0\\localcache\\local-packages\\python39\\site-packages (from google-auth<3,>=1.6.3->tensorboard>=2.9.1->stable-baselines3[extra]) (0.2.8)\n",
      "Requirement already satisfied: six>=1.9.0 in c:\\users\\micko\\appdata\\local\\packages\\pythonsoftwarefoundation.python.3.9_qbz5n2kfra8p0\\localcache\\local-packages\\python39\\site-packages (from google-auth<3,>=1.6.3->tensorboard>=2.9.1->stable-baselines3[extra]) (1.16.0)\n",
      "Requirement already satisfied: rsa<5,>=3.1.4 in c:\\users\\micko\\appdata\\local\\packages\\pythonsoftwarefoundation.python.3.9_qbz5n2kfra8p0\\localcache\\local-packages\\python39\\site-packages (from google-auth<3,>=1.6.3->tensorboard>=2.9.1->stable-baselines3[extra]) (4.9)\n",
      "Requirement already satisfied: requests-oauthlib>=0.7.0 in c:\\users\\micko\\appdata\\local\\packages\\pythonsoftwarefoundation.python.3.9_qbz5n2kfra8p0\\localcache\\local-packages\\python39\\site-packages (from google-auth-oauthlib<0.5,>=0.4.1->tensorboard>=2.9.1->stable-baselines3[extra]) (1.3.1)\n",
      "Requirement already satisfied: zipp>=0.5 in c:\\users\\micko\\appdata\\local\\packages\\pythonsoftwarefoundation.python.3.9_qbz5n2kfra8p0\\localcache\\local-packages\\python39\\site-packages (from importlib-metadata>=4.10.0->ale-py>=0.9.0->stable-baselines3[extra]) (3.11.0)\n",
      "Requirement already satisfied: mdurl~=0.1 in c:\\users\\micko\\appdata\\local\\packages\\pythonsoftwarefoundation.python.3.9_qbz5n2kfra8p0\\localcache\\local-packages\\python39\\site-packages (from markdown-it-py>=2.2.0->rich->stable-baselines3[extra]) (0.1.2)\n",
      "Requirement already satisfied: charset-normalizer<3,>=2 in c:\\users\\micko\\appdata\\local\\packages\\pythonsoftwarefoundation.python.3.9_qbz5n2kfra8p0\\localcache\\local-packages\\python39\\site-packages (from requests<3,>=2.21.0->tensorboard>=2.9.1->stable-baselines3[extra]) (2.1.1)\n",
      "Requirement already satisfied: idna<4,>=2.5 in c:\\users\\micko\\appdata\\local\\packages\\pythonsoftwarefoundation.python.3.9_qbz5n2kfra8p0\\localcache\\local-packages\\python39\\site-packages (from requests<3,>=2.21.0->tensorboard>=2.9.1->stable-baselines3[extra]) (3.4)\n",
      "Requirement already satisfied: urllib3<1.27,>=1.21.1 in c:\\users\\micko\\appdata\\local\\packages\\pythonsoftwarefoundation.python.3.9_qbz5n2kfra8p0\\localcache\\local-packages\\python39\\site-packages (from requests<3,>=2.21.0->tensorboard>=2.9.1->stable-baselines3[extra]) (1.26.13)\n",
      "Requirement already satisfied: certifi>=2017.4.17 in c:\\users\\micko\\appdata\\local\\packages\\pythonsoftwarefoundation.python.3.9_qbz5n2kfra8p0\\localcache\\local-packages\\python39\\site-packages (from requests<3,>=2.21.0->tensorboard>=2.9.1->stable-baselines3[extra]) (2022.9.24)\n",
      "Requirement already satisfied: MarkupSafe>=2.1.1 in c:\\users\\micko\\appdata\\local\\packages\\pythonsoftwarefoundation.python.3.9_qbz5n2kfra8p0\\localcache\\local-packages\\python39\\site-packages (from werkzeug>=1.0.1->tensorboard>=2.9.1->stable-baselines3[extra]) (2.1.1)\n",
      "Requirement already satisfied: mpmath>=0.19 in c:\\users\\micko\\appdata\\local\\packages\\pythonsoftwarefoundation.python.3.9_qbz5n2kfra8p0\\localcache\\local-packages\\python39\\site-packages (from sympy->torch>=1.13->stable-baselines3[extra]) (1.3.0)\n",
      "Requirement already satisfied: pyasn1<0.5.0,>=0.4.6 in c:\\users\\micko\\appdata\\local\\packages\\pythonsoftwarefoundation.python.3.9_qbz5n2kfra8p0\\localcache\\local-packages\\python39\\site-packages (from pyasn1-modules>=0.2.1->google-auth<3,>=1.6.3->tensorboard>=2.9.1->stable-baselines3[extra]) (0.4.8)\n",
      "Requirement already satisfied: oauthlib>=3.0.0 in c:\\users\\micko\\appdata\\local\\packages\\pythonsoftwarefoundation.python.3.9_qbz5n2kfra8p0\\localcache\\local-packages\\python39\\site-packages (from requests-oauthlib>=0.7.0->google-auth-oauthlib<0.5,>=0.4.1->tensorboard>=2.9.1->stable-baselines3[extra]) (3.2.2)\n"
     ]
    },
    {
     "name": "stderr",
     "output_type": "stream",
     "text": [
      "\n",
      "[notice] A new release of pip is available: 23.2.1 -> 24.3.1\n",
      "[notice] To update, run: C:\\Users\\micko\\AppData\\Local\\Microsoft\\WindowsApps\\PythonSoftwareFoundation.Python.3.9_qbz5n2kfra8p0\\python.exe -m pip install --upgrade pip\n"
     ]
    }
   ],
   "source": [
    "!pip install stable-baselines3[extra]"
   ]
  },
  {
   "cell_type": "code",
   "execution_count": 5,
   "metadata": {
    "id": "FZ1Zjgglo8O1"
   },
   "outputs": [],
   "source": [
    "import pandas as pd\n",
    "from pathlib import Path\n",
    "from sklearn.model_selection import train_test_split\n",
    "from sklearn.ensemble import RandomForestClassifier\n",
    "from sklearn.preprocessing import StandardScaler\n",
    "import numpy as np\n",
    "import gymnasium\n",
    "from gymnasium import spaces\n",
    "import matplotlib.pyplot as plt\n",
    "from stable_baselines3 import DQN\n",
    "from stable_baselines3.common.env_checker import check_env"
   ]
  },
  {
   "cell_type": "markdown",
   "metadata": {
    "id": "NAYNcLInpoQ7"
   },
   "source": [
    "**Read Data from ALLFLOWMETER_HIKARI2021.csv file**"
   ]
  },
  {
   "cell_type": "code",
   "execution_count": 4,
   "metadata": {
    "colab": {
     "base_uri": "https://localhost:8080/"
    },
    "id": "ojJo_FWkpkmK",
    "outputId": "08752423-bc57-4ffc-dd27-935bad39bfba"
   },
   "outputs": [
    {
     "name": "stderr",
     "output_type": "stream",
     "text": [
      "/usr/local/lib/python3.10/dist-packages/ipykernel/ipkernel.py:283: DeprecationWarning: `should_run_async` will not call `transform_cell` automatically in the future. Please pass the result to `transformed_cell` argument and any exception that happen during thetransform in `preprocessing_exc_tuple` in IPython 7.17 and above.\n",
      "  and should_run_async(code)\n"
     ]
    }
   ],
   "source": [
    "df=pd.read_csv(Path(\"dataset/ALLFLOWMETER_HIKARI2021.csv\"))\n",
    "df = df.select_dtypes(exclude=['object'])\n",
    "df.drop(['Unnamed: 0.1','Unnamed: 0'], axis=1, inplace=True)"
   ]
  },
  {
   "cell_type": "code",
   "execution_count": 5,
   "metadata": {
    "colab": {
     "base_uri": "https://localhost:8080/"
    },
    "id": "yCo6RS1Lpy1W",
    "outputId": "af1dec17-a4fd-457e-cd76-60544f1228d0"
   },
   "outputs": [
    {
     "name": "stderr",
     "output_type": "stream",
     "text": [
      "/usr/local/lib/python3.10/dist-packages/ipykernel/ipkernel.py:283: DeprecationWarning: `should_run_async` will not call `transform_cell` automatically in the future. Please pass the result to `transformed_cell` argument and any exception that happen during thetransform in `preprocessing_exc_tuple` in IPython 7.17 and above.\n",
      "  and should_run_async(code)\n"
     ]
    }
   ],
   "source": [
    "X = df.drop(['Label'], axis=1)\n",
    "y = df['Label']"
   ]
  },
  {
   "cell_type": "markdown",
   "metadata": {
    "id": "levVAGZztO9F"
   },
   "source": [
    "**Split the Dataframe into train and test**"
   ]
  },
  {
   "cell_type": "code",
   "execution_count": 6,
   "metadata": {
    "colab": {
     "base_uri": "https://localhost:8080/"
    },
    "id": "Pvv-zAmzsvXO",
    "outputId": "379ca9f2-f6aa-4489-bb20-9298112fcaaa"
   },
   "outputs": [
    {
     "name": "stderr",
     "output_type": "stream",
     "text": [
      "/usr/local/lib/python3.10/dist-packages/ipykernel/ipkernel.py:283: DeprecationWarning: `should_run_async` will not call `transform_cell` automatically in the future. Please pass the result to `transformed_cell` argument and any exception that happen during thetransform in `preprocessing_exc_tuple` in IPython 7.17 and above.\n",
      "  and should_run_async(code)\n"
     ]
    }
   ],
   "source": [
    "X_train, X_test, y_train, y_test = train_test_split(X, y, test_size=0.2, random_state=42)"
   ]
  },
  {
   "cell_type": "markdown",
   "metadata": {
    "id": "ciPMwWvotQhj"
   },
   "source": [
    "**Correlation Analysis:** Identifying Highly correlated/redundant features and removing them from the dataset"
   ]
  },
  {
   "cell_type": "code",
   "execution_count": 7,
   "metadata": {
    "id": "VOUBS2Rlv2_i"
   },
   "outputs": [],
   "source": [
    "def drop_highly_correlated_columns(X_train, threshold=0.7):\n",
    "    # Calculate the correlation matrix\n",
    "    corr_matrix = X_train.corr().abs()\n",
    "\n",
    "    # Identify columns to drop\n",
    "    to_drop = set()\n",
    "    for i in range(len(corr_matrix.columns)):\n",
    "        for j in range(i + 1, len(corr_matrix.columns)):\n",
    "            if corr_matrix.iloc[i, j] > threshold:\n",
    "                colname = corr_matrix.columns[i]\n",
    "                to_drop.add(colname)\n",
    "\n",
    "    # Drop the identified columns\n",
    "    X_train.drop(columns=to_drop, inplace=True)\n",
    "\n",
    "    # Print the remaining columns\n",
    "    print(\"Remaining columns after dropping highly correlated ones:\", X_train.columns)\n",
    "\n",
    "    return to_drop"
   ]
  },
  {
   "cell_type": "code",
   "execution_count": 8,
   "metadata": {
    "colab": {
     "base_uri": "https://localhost:8080/"
    },
    "id": "d4rwjUQEv-7f",
    "outputId": "1391c638-3533-4a25-fefa-0f5849315545"
   },
   "outputs": [
    {
     "name": "stdout",
     "output_type": "stream",
     "text": [
      "Remaining columns after dropping highly correlated ones: Index(['originp', 'flow_pkts_per_sec', 'down_up_ratio', 'flow_RST_flag_count',\n",
      "       'flow_ACK_flag_count', 'fwd_URG_flag_count', 'bwd_URG_flag_count',\n",
      "       'flow_CWR_flag_count', 'flow_ECE_flag_count', 'fwd_pkts_payload.avg',\n",
      "       'bwd_pkts_payload.min', 'flow_pkts_payload.min',\n",
      "       'flow_pkts_payload.std', 'bwd_iat.min', 'bwd_iat.tot', 'flow_iat.avg',\n",
      "       'payload_bytes_per_second', 'bwd_subflow_bytes', 'fwd_bulk_bytes',\n",
      "       'fwd_bulk_packets', 'bwd_bulk_packets', 'fwd_bulk_rate',\n",
      "       'bwd_bulk_rate', 'active.std', 'idle.tot', 'idle.avg', 'idle.std',\n",
      "       'fwd_init_window_size', 'bwd_init_window_size', 'fwd_last_window_size'],\n",
      "      dtype='object')\n"
     ]
    }
   ],
   "source": [
    "dropped_columns = drop_highly_correlated_columns(X_train, threshold=0.7)"
   ]
  },
  {
   "cell_type": "code",
   "execution_count": 9,
   "metadata": {
    "colab": {
     "base_uri": "https://localhost:8080/"
    },
    "id": "fzrOa_ZBwRUi",
    "outputId": "5915b823-aad1-4c23-f4cf-a9b1dd495493"
   },
   "outputs": [
    {
     "name": "stdout",
     "output_type": "stream",
     "text": [
      "        originp  flow_pkts_per_sec  down_up_ratio  flow_RST_flag_count  \\\n",
      "203148    53919         157.350815          1.000                    0   \n",
      "14318       138           0.000000          0.000                    0   \n",
      "52246     61126         139.757724          1.000                    0   \n",
      "107333    55598           0.000000          0.000                    0   \n",
      "441227    42268         103.075734          1.300                    1   \n",
      "...         ...                ...            ...                  ...   \n",
      "286928    33015         160.193410          1.000                    0   \n",
      "214178    64784          18.609743          0.625                    0   \n",
      "417668    37124         158.496920          1.000                    0   \n",
      "341532    53872          78.295763          1.000                    0   \n",
      "383776    60775          81.689451          1.000                    0   \n",
      "\n",
      "        flow_ACK_flag_count  fwd_URG_flag_count  bwd_URG_flag_count  \\\n",
      "203148                    0                   0                   0   \n",
      "14318                     0                   0                   0   \n",
      "52246                     0                   0                   0   \n",
      "107333                    0                   0                   0   \n",
      "441227                   22                   0                   0   \n",
      "...                     ...                 ...                 ...   \n",
      "286928                    0                   0                   0   \n",
      "214178                   12                   0                   0   \n",
      "417668                    0                   0                   0   \n",
      "341532                    0                   0                   0   \n",
      "383776                    0                   0                   0   \n",
      "\n",
      "        flow_CWR_flag_count  flow_ECE_flag_count  fwd_pkts_payload.avg  ...  \\\n",
      "203148                    0                    0                 31.00  ...   \n",
      "14318                     0                    0                201.00  ...   \n",
      "52246                     0                    0                 24.00  ...   \n",
      "107333                    0                    0                  0.00  ...   \n",
      "441227                    0                    0                 83.50  ...   \n",
      "...                     ...                  ...                   ...  ...   \n",
      "286928                    0                    0                 31.00  ...   \n",
      "214178                    0                    0                 92.75  ...   \n",
      "417668                    0                    0                 36.00  ...   \n",
      "341532                    0                    0                 36.00  ...   \n",
      "383776                    0                    0                 36.00  ...   \n",
      "\n",
      "        bwd_bulk_packets  fwd_bulk_rate  bwd_bulk_rate  active.std  idle.tot  \\\n",
      "203148               0.0            0.0            0.0         0.0       0.0   \n",
      "14318                0.0            0.0            0.0         0.0       0.0   \n",
      "52246                0.0            0.0            0.0         0.0       0.0   \n",
      "107333               0.0            0.0            0.0         0.0       0.0   \n",
      "441227               5.0            0.0     36700160.0         0.0       0.0   \n",
      "...                  ...            ...            ...         ...       ...   \n",
      "286928               0.0            0.0            0.0         0.0       0.0   \n",
      "214178               0.0            0.0            0.0         0.0       0.0   \n",
      "417668               0.0            0.0            0.0         0.0       0.0   \n",
      "341532               0.0            0.0            0.0         0.0       0.0   \n",
      "383776               0.0            0.0            0.0         0.0       0.0   \n",
      "\n",
      "        idle.avg  idle.std  fwd_init_window_size  bwd_init_window_size  \\\n",
      "203148       0.0       0.0                     0                     0   \n",
      "14318        0.0       0.0                     0                     0   \n",
      "52246        0.0       0.0                     0                     0   \n",
      "107333       0.0       0.0                  1024                     0   \n",
      "441227       0.0       0.0                 29200                 65160   \n",
      "...          ...       ...                   ...                   ...   \n",
      "286928       0.0       0.0                     0                     0   \n",
      "214178       0.0       0.0                 29200                 65535   \n",
      "417668       0.0       0.0                     0                     0   \n",
      "341532       0.0       0.0                     0                     0   \n",
      "383776       0.0       0.0                     0                     0   \n",
      "\n",
      "        fwd_last_window_size  \n",
      "203148                     0  \n",
      "14318                      0  \n",
      "52246                      0  \n",
      "107333                  1024  \n",
      "441227                   402  \n",
      "...                      ...  \n",
      "286928                     0  \n",
      "214178                    64  \n",
      "417668                     0  \n",
      "341532                     0  \n",
      "383776                     0  \n",
      "\n",
      "[111056 rows x 30 columns]\n"
     ]
    },
    {
     "name": "stderr",
     "output_type": "stream",
     "text": [
      "/usr/local/lib/python3.10/dist-packages/ipykernel/ipkernel.py:283: DeprecationWarning: `should_run_async` will not call `transform_cell` automatically in the future. Please pass the result to `transformed_cell` argument and any exception that happen during thetransform in `preprocessing_exc_tuple` in IPython 7.17 and above.\n",
      "  and should_run_async(code)\n"
     ]
    }
   ],
   "source": [
    "X_test.drop(columns=dropped_columns, inplace=True)\n",
    "print(X_test)"
   ]
  },
  {
   "cell_type": "markdown",
   "metadata": {
    "id": "ML27eA2xw-cX"
   },
   "source": [
    "**Random Forest Classifier:** Using Random Forest classifer model to select the 10 most important features in the dataset\n"
   ]
  },
  {
   "cell_type": "code",
   "execution_count": 10,
   "metadata": {
    "colab": {
     "base_uri": "https://localhost:8080/"
    },
    "id": "FH-xN8nAxCgY",
    "outputId": "4d4e1d14-8a52-467b-d075-1c7c0559553c"
   },
   "outputs": [
    {
     "name": "stderr",
     "output_type": "stream",
     "text": [
      "/usr/local/lib/python3.10/dist-packages/ipykernel/ipkernel.py:283: DeprecationWarning: `should_run_async` will not call `transform_cell` automatically in the future. Please pass the result to `transformed_cell` argument and any exception that happen during thetransform in `preprocessing_exc_tuple` in IPython 7.17 and above.\n",
      "  and should_run_async(code)\n"
     ]
    }
   ],
   "source": [
    "def get_top_k_features(X, y, k=20, model_type=\"classifier\", random_state=123):\n",
    "    # Initialize the model\n",
    "    if model_type == \"classifier\":\n",
    "        rf_model = RandomForestClassifier(random_state=random_state)\n",
    "    else:\n",
    "        raise ValueError(\"model_type should be 'classifier'\")\n",
    "\n",
    "    # Fit the model\n",
    "    rf_model.fit(X, y)\n",
    "\n",
    "    # Get feature importances\n",
    "    feature_importances = rf_model.feature_importances_\n",
    "\n",
    "    # Create a DataFrame to store feature importances\n",
    "    feature_importance_df = pd.DataFrame({'Feature': X.columns, 'Importance': feature_importances})\n",
    "\n",
    "    # Sort features by importance in descending order\n",
    "    feature_importance_df = feature_importance_df.sort_values(by='Importance', ascending=False)\n",
    "    print(feature_importance_df[:k])\n",
    "\n",
    "    # Select top k features\n",
    "    top_k_features = feature_importance_df['Feature'][:k].tolist()\n",
    "\n",
    "    # Ensure top features are in the original dataset's columns\n",
    "    top_k_features = [feature for feature in top_k_features if feature in X.columns]\n",
    "\n",
    "    return top_k_features, feature_importance_df"
   ]
  },
  {
   "cell_type": "code",
   "execution_count": 11,
   "metadata": {
    "colab": {
     "base_uri": "https://localhost:8080/"
    },
    "id": "3kn8gnoxxHkB",
    "outputId": "b07e6209-b92f-49f9-c1f8-c05d8a524fcc"
   },
   "outputs": [
    {
     "name": "stdout",
     "output_type": "stream",
     "text": [
      "                     Feature  Importance\n",
      "0                    originp    0.095590\n",
      "16  payload_bytes_per_second    0.094157\n",
      "14               bwd_iat.tot    0.092211\n",
      "15              flow_iat.avg    0.088706\n",
      "1          flow_pkts_per_sec    0.087247\n",
      "9       fwd_pkts_payload.avg    0.073482\n",
      "17         bwd_subflow_bytes    0.066258\n",
      "12     flow_pkts_payload.std    0.064241\n",
      "22             bwd_bulk_rate    0.055118\n",
      "28      bwd_init_window_size    0.047781\n",
      "13               bwd_iat.min    0.047473\n",
      "2              down_up_ratio    0.042797\n",
      "3        flow_RST_flag_count    0.036370\n",
      "4        flow_ACK_flag_count    0.033751\n",
      "29      fwd_last_window_size    0.020578\n",
      "24                  idle.tot    0.012581\n",
      "25                  idle.avg    0.010661\n",
      "23                active.std    0.009060\n",
      "20          bwd_bulk_packets    0.008244\n",
      "11     flow_pkts_payload.min    0.005434\n"
     ]
    }
   ],
   "source": [
    "top_k_features, feature_importance_df = get_top_k_features(X_train, y_train, k=20, model_type=\"classifier\")"
   ]
  },
  {
   "cell_type": "code",
   "execution_count": 12,
   "metadata": {
    "colab": {
     "base_uri": "https://localhost:8080/"
    },
    "id": "giLaJ7qc3UVz",
    "outputId": "8ae09a9a-ef96-4583-f27f-1a8792cfdfad"
   },
   "outputs": [
    {
     "name": "stdout",
     "output_type": "stream",
     "text": [
      "        originp  payload_bytes_per_second   bwd_iat.tot  flow_iat.avg  \\\n",
      "91093     55855               5151.392099  1.164908e+06  76991.942194   \n",
      "362906    53045               3131.219424  0.000000e+00  28104.066849   \n",
      "198842    41746                  0.000000  0.000000e+00     97.990036   \n",
      "75020     14634               7175.417457  7.989020e+05  56475.453907   \n",
      "220726    26060              21848.425558  9.460449e+02   8421.659470   \n",
      "...         ...                       ...           ...           ...   \n",
      "110268    60803                  0.000000  0.000000e+00      0.000000   \n",
      "259178    19640               4789.470234  8.001401e+05  56258.161863   \n",
      "365838    59878              34004.958559  2.371941e+05  12193.408879   \n",
      "131932    60644               2697.263855  1.532861e+06  99519.315519   \n",
      "121958    50819              16310.228408  3.972054e+03   8931.001027   \n",
      "\n",
      "        flow_pkts_per_sec  fwd_pkts_payload.avg  bwd_subflow_bytes  \\\n",
      "91093           13.710106             97.750000             5966.0   \n",
      "362906          71.164078             36.000000               52.0   \n",
      "198842       20410.238443              0.000000                0.0   \n",
      "75020           18.691107            135.166667             5672.0   \n",
      "220726         158.321924             33.000000              486.0   \n",
      "...                   ...                   ...                ...   \n",
      "110268           0.000000              0.000000                0.0   \n",
      "259178          18.762873            101.416667             3633.0   \n",
      "365838          85.739317             84.100000             8281.0   \n",
      "131932          10.577505             81.727273             4201.0   \n",
      "121958         149.292709             53.000000              331.0   \n",
      "\n",
      "        flow_pkts_payload.std  bwd_bulk_rate  bwd_init_window_size  \\\n",
      "91093              966.713093   0.000000e+00                 28960   \n",
      "362906              11.313708   0.000000e+00                     0   \n",
      "198842               0.000000   0.000000e+00                     0   \n",
      "75020              904.923133   0.000000e+00                 26847   \n",
      "220726             132.025250   0.000000e+00                     0   \n",
      "...                       ...            ...                   ...   \n",
      "110268               0.000000   0.000000e+00                     0   \n",
      "259178             777.528981   0.000000e+00                 26847   \n",
      "365838             647.114065   4.410753e+07                 65160   \n",
      "131932             852.546896   0.000000e+00                 29200   \n",
      "121958              65.321640   0.000000e+00                     0   \n",
      "\n",
      "        bwd_iat.min  down_up_ratio  flow_RST_flag_count  flow_ACK_flag_count  \\\n",
      "91093     46.968460       0.583333                    2                   16   \n",
      "362906     0.000000       1.000000                    0                    0   \n",
      "198842     0.000000       1.000000                    1                    1   \n",
      "75020     66.041946       0.583333                    2                   16   \n",
      "220726   946.044922       1.000000                    0                    0   \n",
      "...             ...            ...                  ...                  ...   \n",
      "110268     0.000000       0.000000                    0                    0   \n",
      "259178    36.001205       0.583333                    2                   16   \n",
      "365838     3.099442       1.300000                    1                   22   \n",
      "131932    20.027161       0.818182                    0                   19   \n",
      "121958  3972.053528       1.000000                    0                    0   \n",
      "\n",
      "        fwd_last_window_size  idle.tot  idle.avg  active.std  \\\n",
      "91093                      0       0.0       0.0         0.0   \n",
      "362906                     0       0.0       0.0         0.0   \n",
      "198842                 29200       0.0       0.0         0.0   \n",
      "75020                      0       0.0       0.0         0.0   \n",
      "220726                     0       0.0       0.0         0.0   \n",
      "...                      ...       ...       ...         ...   \n",
      "110268                  8192       0.0       0.0         0.0   \n",
      "259178                     0       0.0       0.0         0.0   \n",
      "365838                   402       0.0       0.0         0.0   \n",
      "131932                    78       0.0       0.0         0.0   \n",
      "121958                     0       0.0       0.0         0.0   \n",
      "\n",
      "        bwd_bulk_packets  flow_pkts_payload.min  \n",
      "91093                0.0                    0.0  \n",
      "362906               0.0                   36.0  \n",
      "198842               0.0                    0.0  \n",
      "75020                0.0                    0.0  \n",
      "220726               0.0                   33.0  \n",
      "...                  ...                    ...  \n",
      "110268               0.0                    0.0  \n",
      "259178               0.0                    0.0  \n",
      "365838               5.0                    0.0  \n",
      "131932               0.0                    0.0  \n",
      "121958               0.0                   53.0  \n",
      "\n",
      "[444222 rows x 20 columns]\n"
     ]
    },
    {
     "name": "stderr",
     "output_type": "stream",
     "text": [
      "/usr/local/lib/python3.10/dist-packages/ipykernel/ipkernel.py:283: DeprecationWarning: `should_run_async` will not call `transform_cell` automatically in the future. Please pass the result to `transformed_cell` argument and any exception that happen during thetransform in `preprocessing_exc_tuple` in IPython 7.17 and above.\n",
      "  and should_run_async(code)\n"
     ]
    }
   ],
   "source": [
    "X_train = X_train[top_k_features]\n",
    "print(X_train)"
   ]
  },
  {
   "cell_type": "code",
   "execution_count": 13,
   "metadata": {
    "colab": {
     "base_uri": "https://localhost:8080/"
    },
    "id": "CWhkracU3YGS",
    "outputId": "6f0d3f8f-1d00-43b9-ee75-e6f7fdd83447"
   },
   "outputs": [
    {
     "name": "stdout",
     "output_type": "stream",
     "text": [
      "             originp  payload_bytes_per_second   bwd_iat.tot  flow_iat.avg  \\\n",
      "count  111056.000000              1.110560e+05  1.110560e+05  1.110560e+05   \n",
      "mean    38612.805233              3.545660e+04  7.074710e+06  1.089106e+06   \n",
      "std     18075.393108              2.396936e+05  7.968790e+07  7.239695e+06   \n",
      "min        21.000000              0.000000e+00  0.000000e+00  0.000000e+00   \n",
      "25%     28446.750000              1.700001e+00  0.000000e+00  3.039837e+02   \n",
      "50%     42624.500000              5.298073e+03  3.795624e+02  9.992085e+03   \n",
      "75%     53045.000000              1.641190e+04  2.500782e+05  2.550108e+04   \n",
      "max     65534.000000              4.093641e+07  1.739281e+10  6.707027e+07   \n",
      "\n",
      "       flow_pkts_per_sec  fwd_pkts_payload.avg  bwd_subflow_bytes  \\\n",
      "count      111056.000000         111056.000000       1.110560e+05   \n",
      "mean         3424.343644             52.503731       1.591506e+04   \n",
      "std          9380.625456             52.176881       1.300927e+05   \n",
      "min             0.000000              0.000000       0.000000e+00   \n",
      "25%             7.787431             33.000000       0.000000e+00   \n",
      "50%            82.761353             40.000000       1.470000e+02   \n",
      "75%           160.636679             83.300000       4.037000e+03   \n",
      "max        223696.213333           2546.402062       1.062554e+07   \n",
      "\n",
      "       flow_pkts_payload.std  bwd_bulk_rate  bwd_init_window_size  \\\n",
      "count          111056.000000   1.110560e+05         111056.000000   \n",
      "mean              299.503125   5.714724e+06          20887.127953   \n",
      "std               523.916657   1.863917e+07          29105.620205   \n",
      "min                 0.000000   0.000000e+00              0.000000   \n",
      "25%                 0.000000   0.000000e+00              0.000000   \n",
      "50%                41.719300   0.000000e+00              0.000000   \n",
      "75%               629.310633   0.000000e+00          65160.000000   \n",
      "max             13458.385276   2.019889e+08          65535.000000   \n",
      "\n",
      "        bwd_iat.min  down_up_ratio  flow_RST_flag_count  flow_ACK_flag_count  \\\n",
      "count  1.110560e+05  111056.000000        111056.000000        111056.000000   \n",
      "mean   1.455855e+04       0.886155             0.504259            32.764911   \n",
      "std    2.415726e+05       0.509131             0.920191           244.109659   \n",
      "min    0.000000e+00       0.000000             0.000000             0.000000   \n",
      "25%    0.000000e+00       0.866667             0.000000             0.000000   \n",
      "50%    4.053116e+00       1.000000             0.000000             0.000000   \n",
      "75%    3.480911e+01       1.000000             1.000000            20.000000   \n",
      "max    3.622444e+07       6.000000           101.000000         25080.000000   \n",
      "\n",
      "       fwd_last_window_size      idle.tot      idle.avg    active.std  \\\n",
      "count         111056.000000  1.110560e+05  1.110560e+05  1.110560e+05   \n",
      "mean            4574.840621  8.169797e+06  4.017197e+06  1.109626e+05   \n",
      "std            11134.285307  9.608828e+07  1.891420e+07  1.444870e+06   \n",
      "min                0.000000  0.000000e+00  0.000000e+00  0.000000e+00   \n",
      "25%                0.000000  0.000000e+00  0.000000e+00  0.000000e+00   \n",
      "50%                0.000000  0.000000e+00  0.000000e+00  0.000000e+00   \n",
      "75%              402.000000  0.000000e+00  0.000000e+00  0.000000e+00   \n",
      "max            65535.000000  1.738680e+10  2.998038e+08  1.415196e+08   \n",
      "\n",
      "       bwd_bulk_packets  flow_pkts_payload.min  \n",
      "count     111056.000000          111056.000000  \n",
      "mean           2.580000              22.729101  \n",
      "std           24.511382              33.891741  \n",
      "min            0.000000               0.000000  \n",
      "25%            0.000000               0.000000  \n",
      "50%            0.000000               0.000000  \n",
      "75%            0.000000              36.000000  \n",
      "max         4726.000000            1020.000000  \n"
     ]
    },
    {
     "name": "stderr",
     "output_type": "stream",
     "text": [
      "/usr/local/lib/python3.10/dist-packages/ipykernel/ipkernel.py:283: DeprecationWarning: `should_run_async` will not call `transform_cell` automatically in the future. Please pass the result to `transformed_cell` argument and any exception that happen during thetransform in `preprocessing_exc_tuple` in IPython 7.17 and above.\n",
      "  and should_run_async(code)\n"
     ]
    }
   ],
   "source": [
    "X_test = X_test[top_k_features]\n",
    "print(X_test.describe())"
   ]
  },
  {
   "cell_type": "markdown",
   "metadata": {
    "id": "vtb4m0qD3d--"
   },
   "source": [
    "**Normalizing Data:** Scaling data to a range of -1 to 1"
   ]
  },
  {
   "cell_type": "code",
   "execution_count": 14,
   "metadata": {
    "colab": {
     "base_uri": "https://localhost:8080/"
    },
    "id": "CanozwZp3dL2",
    "outputId": "906d3e2c-9729-4c64-b6e5-0c4f028e0142"
   },
   "outputs": [
    {
     "name": "stderr",
     "output_type": "stream",
     "text": [
      "/usr/local/lib/python3.10/dist-packages/ipykernel/ipkernel.py:283: DeprecationWarning: `should_run_async` will not call `transform_cell` automatically in the future. Please pass the result to `transformed_cell` argument and any exception that happen during thetransform in `preprocessing_exc_tuple` in IPython 7.17 and above.\n",
      "  and should_run_async(code)\n"
     ]
    }
   ],
   "source": [
    "def normalize_data(df, columns_standardize):\n",
    "    \"\"\"\n",
    "    Normalize and standardize specified columns of a DataFrame.\n",
    "\n",
    "    Parameters:\n",
    "    - df (pd.DataFrame): The DataFrame to be scaled.\n",
    "    - columns_standardize (list): List of column names to be standardized.\n",
    "\n",
    "    Returns:\n",
    "    - pd.DataFrame: Scaled DataFrame.\n",
    "    \"\"\"\n",
    "    # Create scalers\n",
    "    standard_scaler = StandardScaler()\n",
    "\n",
    "    # Standardize specified columns\n",
    "    if columns_standardize:\n",
    "        df[columns_standardize] = standard_scaler.fit_transform(df[columns_standardize])\n",
    "\n",
    "\n",
    "    return df"
   ]
  },
  {
   "cell_type": "code",
   "execution_count": 15,
   "metadata": {
    "id": "ARB12bnI34e7"
   },
   "outputs": [],
   "source": [
    "X_train = normalize_data(\n",
    "    X_train.loc[:, top_k_features],\n",
    "    columns_standardize=[\"originp\", \"payload_bytes_per_second\",\"bwd_iat.tot\",\"flow_iat.avg\",\n",
    "    \"flow_pkts_per_sec\",\"fwd_pkts_payload.avg\",\"bwd_subflow_bytes\",\"flow_pkts_payload.std\",\n",
    "    \"bwd_bulk_rate\",\n",
    "    \"bwd_init_window_size\",\n",
    "    \"bwd_iat.min\",\n",
    "    \"down_up_ratio\",\n",
    "    \"flow_RST_flag_count\",\n",
    "    \"flow_ACK_flag_count\",\n",
    "    \"fwd_last_window_size\",\n",
    "    \"idle.tot\",\n",
    "    \"idle.avg\",\n",
    "    \"active.std\",\n",
    "    \"bwd_bulk_packets\",\n",
    "    \"flow_pkts_payload.min\"],\n",
    "\n",
    ")"
   ]
  },
  {
   "cell_type": "code",
   "execution_count": 16,
   "metadata": {
    "colab": {
     "base_uri": "https://localhost:8080/"
    },
    "id": "EUCwSRLQeeuE",
    "outputId": "6c80bd8b-959d-4df1-dd57-aacf2b5d7ff9"
   },
   "outputs": [
    {
     "name": "stderr",
     "output_type": "stream",
     "text": [
      "/usr/local/lib/python3.10/dist-packages/ipykernel/ipkernel.py:283: DeprecationWarning: `should_run_async` will not call `transform_cell` automatically in the future. Please pass the result to `transformed_cell` argument and any exception that happen during thetransform in `preprocessing_exc_tuple` in IPython 7.17 and above.\n",
      "  and should_run_async(code)\n"
     ]
    }
   ],
   "source": [
    "X_test = normalize_data(\n",
    "    X_test.loc[:, top_k_features],\n",
    "    columns_standardize=[\"originp\", \"payload_bytes_per_second\",\"bwd_iat.tot\",\"flow_iat.avg\",\n",
    "    \"flow_pkts_per_sec\",\"fwd_pkts_payload.avg\",\"bwd_subflow_bytes\",\"flow_pkts_payload.std\",\n",
    "    \"bwd_bulk_rate\",\n",
    "    \"bwd_init_window_size\",\n",
    "    \"bwd_iat.min\",\n",
    "    \"down_up_ratio\",\n",
    "    \"flow_RST_flag_count\",\n",
    "    \"flow_ACK_flag_count\",\n",
    "    \"fwd_last_window_size\",\n",
    "    \"idle.tot\",\n",
    "    \"idle.avg\",\n",
    "    \"active.std\",\n",
    "    \"bwd_bulk_packets\",\n",
    "    \"flow_pkts_payload.min\"],\n",
    ")"
   ]
  },
  {
   "cell_type": "code",
   "execution_count": 17,
   "metadata": {
    "colab": {
     "base_uri": "https://localhost:8080/"
    },
    "id": "IO-k-mmJEqLk",
    "outputId": "4dbcfcba-dc72-423e-ccad-92d7f1240a56"
   },
   "outputs": [
    {
     "name": "stderr",
     "output_type": "stream",
     "text": [
      "/usr/local/lib/python3.10/dist-packages/ipykernel/ipkernel.py:283: DeprecationWarning: `should_run_async` will not call `transform_cell` automatically in the future. Please pass the result to `transformed_cell` argument and any exception that happen during thetransform in `preprocessing_exc_tuple` in IPython 7.17 and above.\n",
      "  and should_run_async(code)\n"
     ]
    },
    {
     "name": "stdout",
     "output_type": "stream",
     "text": [
      "            originp  payload_bytes_per_second   bwd_iat.tot  flow_iat.avg  \\\n",
      "count  4.442220e+05              4.442220e+05  4.442220e+05  4.442220e+05   \n",
      "mean   1.039769e-16             -1.528343e-17 -2.415278e-18 -2.699993e-17   \n",
      "std    1.000001e+00              1.000001e+00  1.000001e+00  1.000001e+00   \n",
      "min   -2.139755e+00             -1.649554e-01 -1.015320e-01 -1.502367e-01   \n",
      "25%   -5.573212e-01             -1.649509e-01 -1.015320e-01 -1.501938e-01   \n",
      "50%    2.224407e-01             -1.400513e-01 -1.015265e-01 -1.488407e-01   \n",
      "75%    7.995563e-01             -8.720741e-02 -9.804080e-02 -1.467064e-01   \n",
      "max    1.485632e+00              1.716566e+02  2.166403e+02  1.392824e+01   \n",
      "\n",
      "       flow_pkts_per_sec  fwd_pkts_payload.avg  bwd_subflow_bytes  \\\n",
      "count       4.442220e+05          4.442220e+05       4.442220e+05   \n",
      "mean        1.290814e-17         -3.192645e-17      -4.640212e-17   \n",
      "std         1.000001e+00          1.000001e+00       1.000001e+00   \n",
      "min        -3.642115e-01         -9.841146e-01      -1.043219e-01   \n",
      "25%        -3.633966e-01         -3.596232e-01      -1.043219e-01   \n",
      "50%        -3.553114e-01         -2.375356e-01      -1.033590e-01   \n",
      "75%        -3.469481e-01          5.706362e-01      -7.788022e-02   \n",
      "max         2.337053e+01          8.937978e+01       3.519754e+02   \n",
      "\n",
      "       flow_pkts_payload.std  bwd_bulk_rate  bwd_init_window_size  \\\n",
      "count           4.442220e+05   4.442220e+05          4.442220e+05   \n",
      "mean           -1.832092e-16  -3.000703e-17          6.062187e-17   \n",
      "std             1.000001e+00   1.000001e+00          1.000001e+00   \n",
      "min            -5.708076e-01  -3.075571e-01         -7.211923e-01   \n",
      "25%            -5.708076e-01  -3.075571e-01         -7.211923e-01   \n",
      "50%            -4.912119e-01  -3.075571e-01         -7.211923e-01   \n",
      "75%             6.229531e-01  -3.075571e-01          1.512781e+00   \n",
      "max             3.173461e+01   1.992018e+01          1.525637e+00   \n",
      "\n",
      "        bwd_iat.min  down_up_ratio  flow_RST_flag_count  flow_ACK_flag_count  \\\n",
      "count  4.442220e+05   4.442220e+05         4.442220e+05         4.442220e+05   \n",
      "mean  -2.487256e-17  -4.942042e-16         9.865850e-17         2.085376e-18   \n",
      "std    1.000001e+00   1.000001e+00         1.000001e+00         1.000001e+00   \n",
      "min   -5.929972e-02  -1.731533e+00        -5.633947e-01        -3.426932e-02   \n",
      "25%   -5.929972e-02  -4.010140e-02        -5.633947e-01        -3.426932e-02   \n",
      "50%   -5.928418e-02   2.201182e-01        -5.633947e-01        -3.426932e-02   \n",
      "75%   -5.916900e-02   2.201182e-01         5.571039e-01        -1.495235e-02   \n",
      "max    3.143903e+02   9.978376e+00         1.226914e+02         6.307785e+02   \n",
      "\n",
      "       fwd_last_window_size      idle.tot      idle.avg    active.std  \\\n",
      "count          4.442220e+05  4.442220e+05  4.442220e+05  4.442220e+05   \n",
      "mean           1.682697e-17  4.438673e-18  2.031393e-17  4.878541e-19   \n",
      "std            1.000001e+00  1.000001e+00  1.000001e+00  1.000001e+00   \n",
      "min           -4.107307e-01 -8.605237e-02 -2.126503e-01 -1.507104e-02   \n",
      "25%           -4.107307e-01 -8.605237e-02 -2.126503e-01 -1.507104e-02   \n",
      "50%           -4.107307e-01 -8.605237e-02 -2.126503e-01 -1.507104e-02   \n",
      "75%           -3.743611e-01 -8.605237e-02 -2.126503e-01 -1.507104e-02   \n",
      "max            5.518333e+00  1.608704e+02  1.533644e+01  5.886129e+02   \n",
      "\n",
      "       bwd_bulk_packets  flow_pkts_payload.min  \n",
      "count      4.442220e+05           4.442220e+05  \n",
      "mean       6.398087e-20           4.365895e-17  \n",
      "std        1.000001e+00           1.000001e+00  \n",
      "min       -1.406615e-01          -6.703594e-01  \n",
      "25%       -1.406615e-01          -6.703594e-01  \n",
      "50%       -1.406615e-01          -6.703594e-01  \n",
      "75%       -1.406615e-01           3.927875e-01  \n",
      "max        2.551251e+02           2.945214e+01  \n"
     ]
    }
   ],
   "source": [
    "print(X_train.describe())"
   ]
  },
  {
   "cell_type": "markdown",
   "metadata": {
    "id": "Nfe9-uiqexp3"
   },
   "source": [
    "**Setup the Environment with OpenAI Gym**"
   ]
  },
  {
   "cell_type": "code",
   "execution_count": 65,
   "metadata": {
    "id": "dU6m6HFje5k-"
   },
   "outputs": [],
   "source": [
    "class TrafficEnv(gymnasium.Env):\n",
    "    def __init__(self, X, y):\n",
    "        super(TrafficEnv, self).__init__()\n",
    "\n",
    "        # Store the data\n",
    "        self.X = X.values\n",
    "        self.y = y.values\n",
    "        self.n_samples = len(self.y)\n",
    "        self.current_idx = 0\n",
    "\n",
    "        # Define observation space (normalized features)\n",
    "        n_features = self.X.shape[1]\n",
    "        self.observation_space = spaces.Box(low=np.min(self.X, axis=0),\n",
    "             high=np.max(self.X, axis=0),\n",
    "             shape=(n_features,),\n",
    "             dtype=np.float32 )\n",
    "\n",
    "        # Define action space (binary classification: benign or malicious)\n",
    "        self.action_space = spaces.Discrete(2)\n",
    "\n",
    "        # Initialize variables for rewards and state tracking\n",
    "        self.correct_classifications = 0\n",
    "        self.total_classifications = 0\n",
    "        self.false_positives = 0\n",
    "        self.false_negatives = 0\n",
    "\n",
    "    def reset(self, seed=None):\n",
    "        \"\"\"Reset the environment for a new episode.\"\"\"\n",
    "\n",
    "        self.current_idx = 0\n",
    "        self.correct_classifications = 0\n",
    "        self.total_classifications = 0\n",
    "        self.false_positives = 0\n",
    "        self.false_negatives = 0\n",
    "        return self.X[self.current_idx].astype(np.float32),{}\n",
    "\n",
    "    def step(self, action):\n",
    "        \"\"\"Take a step in the environment.\"\"\"\n",
    "\n",
    "        # Get the ground truth\n",
    "        true_label = self.y[self.current_idx]\n",
    "\n",
    "        # Compute reward\n",
    "        if action == true_label:\n",
    "          reward = 1\n",
    "          self.correct_classifications += 1\n",
    "\n",
    "        elif action==1 and true_label==0:\n",
    "          reward = -0.5\n",
    "          self.false_positives += 1\n",
    "\n",
    "        else:\n",
    "          reward = -1\n",
    "          self.false_negatives += 1\n",
    "\n",
    "        self.total_classifications += 1\n",
    "\n",
    "\n",
    "        # Move to the next sample\n",
    "        self.current_idx += 1\n",
    "        done = self.current_idx >= self.n_samples\n",
    "\n",
    "        # Return the next state, reward, done flag, and info\n",
    "        if not done:\n",
    "            next_state = self.X[self.current_idx].astype(np.float32)\n",
    "        else:\n",
    "            next_state = None\n",
    "\n",
    "        return next_state, reward, done, False,{}\n",
    "\n",
    "    def render(self, mode=\"human\"):\n",
    "\n",
    "        accuracy = self.correct_classifications / self.total_classifications\n",
    "        print(f\"False Positive: {self.false_positives}\")\n",
    "        print(f\"False Negative: {self.false_negatives}\")\n",
    "        print(f\"Correct Classifications: {self.correct_classifications}\")\n",
    "        print(f\"Total Classifications: {self.total_classifications}\")\n",
    "        print(f\"Accuracy: {accuracy:.2f}\")"
   ]
  },
  {
   "cell_type": "markdown",
   "metadata": {
    "id": "qQNT4pWsrOQB"
   },
   "source": [
    "**Testing the Environment Seperately to see if it is Working**"
   ]
  },
  {
   "cell_type": "code",
   "execution_count": null,
   "metadata": {
    "colab": {
     "base_uri": "https://localhost:8080/"
    },
    "id": "_KJe-VR2k535",
    "outputId": "19140fc7-85fb-4f79-ce7b-59660caed5bd"
   },
   "outputs": [
    {
     "name": "stdout",
     "output_type": "stream",
     "text": [
      "Total reward: 103612.0\n"
     ]
    }
   ],
   "source": [
    "# Create the Gym environment\n",
    "env = TrafficEnv(X_train, y_train)\n",
    "\n",
    "# Testing the environment separately before integrating with DQN\n",
    "state = env.reset()\n",
    "done = False\n",
    "total_reward = 0\n",
    "\n",
    "while not done:\n",
    "    # Random action for demonstration\n",
    "    action = env.action_space.sample()\n",
    "\n",
    "    # Step through the environment\n",
    "    next_state, reward, done, truncated ,info = env.step(action)\n",
    "    total_reward += reward\n",
    "\n",
    "print(f\"Total reward: {total_reward}\")"
   ]
  },
  {
   "cell_type": "markdown",
   "metadata": {
    "id": "ffWUb9CvFOIN"
   },
   "source": [
    "**Checking the Environment**"
   ]
  },
  {
   "cell_type": "code",
   "execution_count": 67,
   "metadata": {
    "id": "iqIBbH_1HkQH"
   },
   "outputs": [],
   "source": [
    "check_env(env)"
   ]
  },
  {
   "cell_type": "markdown",
   "metadata": {
    "id": "TKIw34xPGFA1"
   },
   "source": [
    "**Using the Environment (evn) to Train the DQN**"
   ]
  },
  {
   "cell_type": "code",
   "execution_count": 68,
   "metadata": {
    "colab": {
     "base_uri": "https://localhost:8080/"
    },
    "id": "L0A9Zq_KIQi3",
    "outputId": "a003c334-d92b-4fe1-b971-f3e5dbed8619"
   },
   "outputs": [
    {
     "name": "stdout",
     "output_type": "stream",
     "text": [
      "Using cpu device\n",
      "Wrapping the env with a `Monitor` wrapper\n",
      "Wrapping the env in a DummyVecEnv.\n"
     ]
    }
   ],
   "source": [
    "# Initialize the model\n",
    "model = DQN(\"MlpPolicy\", env, verbose=1)"
   ]
  },
  {
   "cell_type": "code",
   "execution_count": 69,
   "metadata": {
    "colab": {
     "base_uri": "https://localhost:8080/"
    },
    "id": "vI0a4uBMLNji",
    "outputId": "94b7297c-d97a-48ec-8cc4-6d78e5092361"
   },
   "outputs": [
    {
     "data": {
      "text/plain": [
       "<stable_baselines3.dqn.dqn.DQN at 0x7d5dcad3d990>"
      ]
     },
     "execution_count": 69,
     "metadata": {},
     "output_type": "execute_result"
    }
   ],
   "source": [
    "model.learn(total_timesteps=10000)"
   ]
  },
  {
   "cell_type": "code",
   "execution_count": null,
   "metadata": {
    "colab": {
     "base_uri": "https://localhost:8080/"
    },
    "id": "nNwavYl4LXue",
    "outputId": "cfd290e1-cf82-4ce0-b424-e9856f515d9e"
   },
   "outputs": [
    {
     "name": "stdout",
     "output_type": "stream",
     "text": [
      "Wrapping the env with a `Monitor` wrapper\n",
      "Wrapping the env in a DummyVecEnv.\n"
     ]
    }
   ],
   "source": [
    "# Save the model\n",
    "model.save(\"traffic_dqn_model\")\n",
    "\n",
    "model = DQN.load(\"traffic_dqn_model\", env=env)"
   ]
  },
  {
   "cell_type": "code",
   "execution_count": 89,
   "metadata": {
    "colab": {
     "base_uri": "https://localhost:8080/"
    },
    "id": "4XfxtVpGLcFl",
    "outputId": "f278eb78-1f2f-45b0-84de-da8914b387a9"
   },
   "outputs": [
    {
     "name": "stderr",
     "output_type": "stream",
     "text": [
      "/usr/local/lib/python3.10/dist-packages/ipykernel/ipkernel.py:283: DeprecationWarning: `should_run_async` will not call `transform_cell` automatically in the future. Please pass the result to `transformed_cell` argument and any exception that happen during thetransform in `preprocessing_exc_tuple` in IPython 7.17 and above.\n",
      "  and should_run_async(code)\n"
     ]
    },
    {
     "name": "stdout",
     "output_type": "stream",
     "text": [
      "Episode: 444222 Total Reward: 369443.0\n",
      "False Positive: 10586\n",
      "False Negative: 29450\n",
      "Correct Classifications: 404186\n",
      "Total Classifications: 444222\n",
      "Accuracy: 0.91\n"
     ]
    }
   ],
   "source": [
    "state = env.reset()\n",
    "done = False\n",
    "total_reward_train = 0\n",
    "\n",
    "episode_rewards_train = []  # List to store total rewards per episode\n",
    "num_episodes_train = 0\n",
    "\n",
    "while not done:\n",
    "    state = state[0] if isinstance(state, tuple) else state\n",
    "\n",
    "    # Predict action using the trained model\n",
    "    action, _states = model.predict(state)\n",
    "    state, reward, done, info, _ = env.step(action)\n",
    "    total_reward_train += reward\n",
    "    episode_rewards_train.append(total_reward_train)\n",
    "    num_episodes_train += 1\n",
    "\n",
    "print(f\"Episode: {num_episodes_train} Total Reward: {total_reward_train}\")\n",
    "env.render()"
   ]
  },
  {
   "cell_type": "markdown",
   "metadata": {
    "id": "umzitwKxZhGw"
   },
   "source": [
    "**Graph Showing Episode vs Rewards for Training Data**"
   ]
  },
  {
   "cell_type": "code",
   "execution_count": 92,
   "metadata": {
    "colab": {
     "base_uri": "https://localhost:8080/",
     "height": 718
    },
    "id": "DzTNWcSxZX8c",
    "outputId": "57c9f892-a2d6-4c74-ace0-535e87691218"
   },
   "outputs": [
    {
     "data": {
      "image/png": "[encoded data removed]",
      "text/plain": [
       "<Figure size 800x800 with 1 Axes>"
      ]
     },
     "metadata": {},
     "output_type": "display_data"
    }
   ],
   "source": [
    "plt.figure(figsize=(8, 8))\n",
    "plt.plot(range(1, len(episode_rewards_train) + 1), episode_rewards_train, marker='o', markerfacecolor='blue', markersize=3)\n",
    "plt.title(\"Episodes vs Total Rewards (Training Data)\")\n",
    "plt.xlabel(\"Episode\")\n",
    "plt.ylabel(\"Total Reward\")\n",
    "plt.grid()\n",
    "plt.show()"
   ]
  },
  {
   "cell_type": "code",
   "execution_count": null,
   "metadata": {},
   "outputs": [],
   "source": [
    "plt.savefig('episode_rewards_training.png')"
   ]
  },
  {
   "cell_type": "markdown",
   "metadata": {
    "id": "3UQsVxdUoIud"
   },
   "source": [
    "**Testing the model with X_test and y_test**"
   ]
  },
  {
   "cell_type": "code",
   "execution_count": 93,
   "metadata": {
    "colab": {
     "base_uri": "https://localhost:8080/"
    },
    "id": "sFCyTxaRoLjv",
    "outputId": "dc5c8456-be89-47c4-8b0a-45c60ccb5788"
   },
   "outputs": [
    {
     "name": "stderr",
     "output_type": "stream",
     "text": [
      "/usr/local/lib/python3.10/dist-packages/gymnasium/spaces/box.py:235: UserWarning: \u001b[33mWARN: Box low's precision lowered by casting to float32, current low.dtype=float64\u001b[0m\n",
      "  gym.logger.warn(\n",
      "/usr/local/lib/python3.10/dist-packages/gymnasium/spaces/box.py:305: UserWarning: \u001b[33mWARN: Box high's precision lowered by casting to float32, current high.dtype=float64\u001b[0m\n",
      "  gym.logger.warn(\n"
     ]
    },
    {
     "name": "stdout",
     "output_type": "stream",
     "text": [
      "Episode: 111056 reward: 96064\n",
      "False Positive: 0\n",
      "False Negative: 7496\n",
      "Correct Classifications: 103560\n",
      "Total Classifications: 111056\n",
      "Accuracy: 0.93\n"
     ]
    }
   ],
   "source": [
    "# Set the environment to use X_test and y_test\n",
    "env_test = TrafficEnv(X_test, y_test)\n",
    "\n",
    "episode_rewards_test = []  # List to store total rewards per episode\n",
    "num_episodes_test = 0\n",
    "\n",
    "state = env_test.reset()\n",
    "done = False\n",
    "total_reward_test = 0\n",
    "\n",
    "while not done:\n",
    "  state = state[0] if isinstance(state, tuple) else state\n",
    "\n",
    "  action, _states = model.predict(state, deterministic=True)\n",
    "  state, reward, done, info, _ = env_test.step(action)\n",
    "  total_reward_test += reward\n",
    "  episode_rewards_test.append(total_reward_test)\n",
    "  num_episodes_test += 1\n",
    "\n",
    "print(f\"Episode: {num_episodes_test} reward: {total_reward_test}\")\n",
    "env_test.render()"
   ]
  },
  {
   "cell_type": "markdown",
   "metadata": {
    "id": "6TJLVrUEZ-h2"
   },
   "source": [
    "**Graph Showing Episode vs Rewards for Testing Data**"
   ]
  },
  {
   "cell_type": "code",
   "execution_count": 94,
   "metadata": {
    "colab": {
     "base_uri": "https://localhost:8080/",
     "height": 718
    },
    "id": "tIUCRaNqt_Jx",
    "outputId": "162fa1b8-c83b-422f-fcdf-404e17e69f27"
   },
   "outputs": [
    {
     "data": {
      "image/png": "[encoded data removed]",
      "text/plain": [
       "<Figure size 800x800 with 1 Axes>"
      ]
     },
     "metadata": {},
     "output_type": "display_data"
    }
   ],
   "source": [
    "# Plot rewards\n",
    "plt.figure(figsize=(8, 8))\n",
    "plt.plot(range(1, len(episode_rewards_test) + 1), episode_rewards_test, marker='o', markerfacecolor='blue', markersize=3)\n",
    "plt.title(\"Episodes vs Total Rewards (Test)\")\n",
    "plt.xlabel(\"Episode\")\n",
    "plt.ylabel(\"Total Reward\")\n",
    "plt.grid()\n",
    "plt.show()"
   ]
  },
  {
   "cell_type": "code",
   "execution_count": null,
   "metadata": {},
   "outputs": [],
   "source": [
    "plt.savefig('episode_rewards_testing.png')"
   ]
  }
 ],
 "metadata": {
  "colab": {
   "provenance": []
  },
  "kernelspec": {
   "display_name": "Python 3",
   "name": "python3"
  },
  "language_info": {
   "codemirror_mode": {
    "name": "ipython",
    "version": 3
   },
   "file_extension": ".py",
   "mimetype": "text/x-python",
   "name": "python",
   "nbconvert_exporter": "python",
   "pygments_lexer": "ipython3",
   "version": "3.9.13"
  }
 },
 "nbformat": 4,
 "nbformat_minor": 0
}
